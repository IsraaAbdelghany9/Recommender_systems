{
  "cells": [
    {
      "cell_type": "markdown",
      "metadata": {
        "id": "vAXEKvNzNdjD"
      },
      "source": [
        "$$ ITI \\space AI-Pro: \\space Intake \\space 45 $$\n",
        "$$ Recommender \\space Systems $$\n",
        "$$ Lab \\space no. \\space 3 $$"
      ]
    },
    {
      "cell_type": "markdown",
      "metadata": {
        "id": "OhXUq0fxNdjF"
      },
      "source": [
        "# `01` Import Necessary Libraries"
      ]
    },
    {
      "cell_type": "markdown",
      "metadata": {
        "id": "f_Hm7bFcNdjG"
      },
      "source": [
        "## `i` Default Libraries"
      ]
    },
    {
      "cell_type": "code",
      "execution_count": 29,
      "metadata": {
        "id": "iLtkrZySNdjH"
      },
      "outputs": [],
      "source": [
        "import numpy as np\n",
        "import pandas as pd"
      ]
    },
    {
      "cell_type": "markdown",
      "metadata": {
        "id": "9WRXo8UpNdjI"
      },
      "source": [
        "## `ii` Additional Libraries\n",
        "Add imports for additional libraries you used throughout the notebook"
      ]
    },
    {
      "cell_type": "code",
      "execution_count": 1,
      "metadata": {
        "id": "VlMLVZwENdjJ"
      },
      "outputs": [],
      "source": [
        "from surprise import Dataset, Reader\n",
        "from surprise import SVD\n",
        "from surprise.model_selection import train_test_split\n",
        "from surprise.accuracy import mae"
      ]
    },
    {
      "cell_type": "markdown",
      "metadata": {},
      "source": [
        "## `iii` Global Variables\n"
      ]
    },
    {
      "cell_type": "code",
      "execution_count": null,
      "metadata": {},
      "outputs": [],
      "source": [
        "K = 5\n",
        "EPOCHS = 100\n",
        "LR = 0.001\n",
        "BETA = 0.02\n",
        "SEED = 1234"
      ]
    },
    {
      "cell_type": "markdown",
      "metadata": {
        "id": "IU8nwlkPNdjJ"
      },
      "source": [
        "----------------------------\n",
        "\n",
        "# `02` Load Data\n",
        "\n",
        "Load `songsDataset.csv` file into a dataframe"
      ]
    },
    {
      "cell_type": "code",
      "execution_count": 30,
      "metadata": {
        "id": "KppQFXKLNdjJ",
        "outputId": "51b51290-9de0-4c3e-b97a-d15111cff442"
      },
      "outputs": [
        {
          "data": {
            "text/html": [
              "<div>\n",
              "<style scoped>\n",
              "    .dataframe tbody tr th:only-of-type {\n",
              "        vertical-align: middle;\n",
              "    }\n",
              "\n",
              "    .dataframe tbody tr th {\n",
              "        vertical-align: top;\n",
              "    }\n",
              "\n",
              "    .dataframe thead th {\n",
              "        text-align: right;\n",
              "    }\n",
              "</style>\n",
              "<table border=\"1\" class=\"dataframe\">\n",
              "  <thead>\n",
              "    <tr style=\"text-align: right;\">\n",
              "      <th></th>\n",
              "      <th>userID</th>\n",
              "      <th>songID</th>\n",
              "      <th>rating</th>\n",
              "    </tr>\n",
              "  </thead>\n",
              "  <tbody>\n",
              "    <tr>\n",
              "      <th>0</th>\n",
              "      <td>0</td>\n",
              "      <td>90409</td>\n",
              "      <td>5</td>\n",
              "    </tr>\n",
              "    <tr>\n",
              "      <th>1</th>\n",
              "      <td>4</td>\n",
              "      <td>91266</td>\n",
              "      <td>1</td>\n",
              "    </tr>\n",
              "    <tr>\n",
              "      <th>2</th>\n",
              "      <td>5</td>\n",
              "      <td>8063</td>\n",
              "      <td>2</td>\n",
              "    </tr>\n",
              "    <tr>\n",
              "      <th>3</th>\n",
              "      <td>5</td>\n",
              "      <td>24427</td>\n",
              "      <td>4</td>\n",
              "    </tr>\n",
              "    <tr>\n",
              "      <th>4</th>\n",
              "      <td>5</td>\n",
              "      <td>105433</td>\n",
              "      <td>4</td>\n",
              "    </tr>\n",
              "  </tbody>\n",
              "</table>\n",
              "</div>"
            ],
            "text/plain": [
              "   userID  songID  rating\n",
              "0       0   90409       5\n",
              "1       4   91266       1\n",
              "2       5    8063       2\n",
              "3       5   24427       4\n",
              "4       5  105433       4"
            ]
          },
          "execution_count": 30,
          "metadata": {},
          "output_type": "execute_result"
        }
      ],
      "source": [
        "data = pd.read_csv(\"Data/songsDataset.csv\")\n",
        "data.head()"
      ]
    },
    {
      "cell_type": "markdown",
      "metadata": {
        "id": "fUkYSo7_NdjJ"
      },
      "source": [
        "--------------------------\n",
        "\n",
        "# `03` Matrix Factorization using Gradient Descent\n",
        "\n",
        "Practice for Matrix Factorization Implementation"
      ]
    },
    {
      "cell_type": "markdown",
      "metadata": {
        "id": "D5z2esDrNdjJ"
      },
      "source": [
        "**Matrix Factorization Mathematical Derivation**\n",
        "\n",
        "We know that the matrix factorization breaks the rating matrix $R$ into two matrices $U \\in \\mathbb{R}^{\\#users \\times K}$ and $M \\in \\mathbb{R}^{K \\times \\#items}$ where K represent the latent space dimensionality.\n",
        "\n",
        "$R$ can then be approximated through the following equation:\n",
        "\n",
        "$$\n",
        "\\mathbf{R} \\approx \\mathbf{U} \\times \\mathbf{M} = \\hat{\\mathbf{R}}\n",
        "$$\n",
        "\n",
        "The error, incorporating the regularization term, is calculated as follows:\n",
        "\n",
        "$$\n",
        "e_{ij}^2 = (r_{ij} - \\sum_{k=1}^K{u_{ik}m_{kj}})^2 + \\frac{\\beta}{2} \\sum_{k=1}^K{(||U||^2 + ||M||^2)}\n",
        "$$\n",
        "\n",
        "In order to be able to use Stochastic Gradient Descent (SGD) to optimize $U$ and $M$, we need to find the partial derivatives of the error function with respect to both $u_{ik}$ and $m_{kj}$. The partial derivatives can be derived as follows:\n",
        "\n",
        "$$\n",
        "\\frac{\\partial}{\\partial u_{ik}}e_{ij}^2 = -2(r_{ij} - \\hat{r}_{ij})(m_{kj}) + \\frac{\\beta}{2} \\times (2 u_{ik}) = -2 e_{ij} m_{kj} + \\beta u_{ik}\n",
        "$$\n",
        "\n",
        "$$\n",
        "\\frac{\\partial}{\\partial m_{ik}}e_{ij}^2 = -2(r_{ij} - \\hat{r}_{ij})(u_{ik}) + \\frac{\\beta}{2} \\times (2 m_{kj}) = -2 e_{ij} u_{ik} + \\beta m_{kj}\n",
        "$$\n",
        "\n",
        "Thus the update rules will be:\n",
        "\n",
        "$$\n",
        "u'_{ik} = u_{ik} + \\alpha \\frac{\\partial}{\\partial u_{ik}}e_{ij}^2 = u_{ik} - \\alpha(-2 e_{ij} m_{kj} + \\beta u_{ik} ) = u_{ik} + \\alpha(2 e_{ij} m_{kj} - \\beta u_{ik} )\n",
        "$$\n",
        "\n",
        "$$\n",
        "m'_{kj} = m_{kj} + \\alpha \\frac{\\partial}{\\partial m_{kj}}e_{ij}^2 = m_{kj} - \\alpha(-2 e_{ij} u_{ik} + \\beta m_{kj} ) = m_{kj} + \\alpha(2 e_{ij} u_{ik} - \\beta m_{kj} )\n",
        "$$"
      ]
    },
    {
      "cell_type": "markdown",
      "metadata": {
        "id": "gEBYlA7RNdjK"
      },
      "source": [
        "## `0` Construct Utility Matrix from the Data"
      ]
    },
    {
      "cell_type": "code",
      "execution_count": 31,
      "metadata": {},
      "outputs": [
        {
          "data": {
            "text/html": [
              "<div>\n",
              "<style scoped>\n",
              "    .dataframe tbody tr th:only-of-type {\n",
              "        vertical-align: middle;\n",
              "    }\n",
              "\n",
              "    .dataframe tbody tr th {\n",
              "        vertical-align: top;\n",
              "    }\n",
              "\n",
              "    .dataframe thead th {\n",
              "        text-align: right;\n",
              "    }\n",
              "</style>\n",
              "<table border=\"1\" class=\"dataframe\">\n",
              "  <thead>\n",
              "    <tr style=\"text-align: right;\">\n",
              "      <th>songID</th>\n",
              "      <th>2263</th>\n",
              "      <th>2726</th>\n",
              "      <th>3785</th>\n",
              "      <th>8063</th>\n",
              "      <th>12709</th>\n",
              "      <th>13859</th>\n",
              "      <th>16548</th>\n",
              "      <th>17029</th>\n",
              "      <th>19299</th>\n",
              "      <th>19670</th>\n",
              "      <th>...</th>\n",
              "      <th>113954</th>\n",
              "      <th>119103</th>\n",
              "      <th>120147</th>\n",
              "      <th>122065</th>\n",
              "      <th>123176</th>\n",
              "      <th>125557</th>\n",
              "      <th>126757</th>\n",
              "      <th>131048</th>\n",
              "      <th>132189</th>\n",
              "      <th>134732</th>\n",
              "    </tr>\n",
              "    <tr>\n",
              "      <th>userID</th>\n",
              "      <th></th>\n",
              "      <th></th>\n",
              "      <th></th>\n",
              "      <th></th>\n",
              "      <th></th>\n",
              "      <th></th>\n",
              "      <th></th>\n",
              "      <th></th>\n",
              "      <th></th>\n",
              "      <th></th>\n",
              "      <th></th>\n",
              "      <th></th>\n",
              "      <th></th>\n",
              "      <th></th>\n",
              "      <th></th>\n",
              "      <th></th>\n",
              "      <th></th>\n",
              "      <th></th>\n",
              "      <th></th>\n",
              "      <th></th>\n",
              "      <th></th>\n",
              "    </tr>\n",
              "  </thead>\n",
              "  <tbody>\n",
              "    <tr>\n",
              "      <th>0</th>\n",
              "      <td>0.0</td>\n",
              "      <td>0.0</td>\n",
              "      <td>0.0</td>\n",
              "      <td>0.0</td>\n",
              "      <td>0.0</td>\n",
              "      <td>0.0</td>\n",
              "      <td>0.0</td>\n",
              "      <td>0.0</td>\n",
              "      <td>0.0</td>\n",
              "      <td>0.0</td>\n",
              "      <td>...</td>\n",
              "      <td>0.0</td>\n",
              "      <td>0.0</td>\n",
              "      <td>0.0</td>\n",
              "      <td>0.0</td>\n",
              "      <td>0.0</td>\n",
              "      <td>0.0</td>\n",
              "      <td>0.0</td>\n",
              "      <td>0.0</td>\n",
              "      <td>0.0</td>\n",
              "      <td>0.0</td>\n",
              "    </tr>\n",
              "    <tr>\n",
              "      <th>4</th>\n",
              "      <td>0.0</td>\n",
              "      <td>0.0</td>\n",
              "      <td>0.0</td>\n",
              "      <td>0.0</td>\n",
              "      <td>0.0</td>\n",
              "      <td>0.0</td>\n",
              "      <td>0.0</td>\n",
              "      <td>0.0</td>\n",
              "      <td>0.0</td>\n",
              "      <td>0.0</td>\n",
              "      <td>...</td>\n",
              "      <td>0.0</td>\n",
              "      <td>0.0</td>\n",
              "      <td>0.0</td>\n",
              "      <td>0.0</td>\n",
              "      <td>0.0</td>\n",
              "      <td>0.0</td>\n",
              "      <td>0.0</td>\n",
              "      <td>0.0</td>\n",
              "      <td>0.0</td>\n",
              "      <td>0.0</td>\n",
              "    </tr>\n",
              "    <tr>\n",
              "      <th>5</th>\n",
              "      <td>0.0</td>\n",
              "      <td>0.0</td>\n",
              "      <td>0.0</td>\n",
              "      <td>2.0</td>\n",
              "      <td>0.0</td>\n",
              "      <td>0.0</td>\n",
              "      <td>0.0</td>\n",
              "      <td>0.0</td>\n",
              "      <td>0.0</td>\n",
              "      <td>0.0</td>\n",
              "      <td>...</td>\n",
              "      <td>0.0</td>\n",
              "      <td>0.0</td>\n",
              "      <td>0.0</td>\n",
              "      <td>0.0</td>\n",
              "      <td>0.0</td>\n",
              "      <td>0.0</td>\n",
              "      <td>0.0</td>\n",
              "      <td>0.0</td>\n",
              "      <td>0.0</td>\n",
              "      <td>0.0</td>\n",
              "    </tr>\n",
              "    <tr>\n",
              "      <th>7</th>\n",
              "      <td>0.0</td>\n",
              "      <td>0.0</td>\n",
              "      <td>0.0</td>\n",
              "      <td>0.0</td>\n",
              "      <td>0.0</td>\n",
              "      <td>0.0</td>\n",
              "      <td>0.0</td>\n",
              "      <td>0.0</td>\n",
              "      <td>0.0</td>\n",
              "      <td>0.0</td>\n",
              "      <td>...</td>\n",
              "      <td>0.0</td>\n",
              "      <td>0.0</td>\n",
              "      <td>0.0</td>\n",
              "      <td>0.0</td>\n",
              "      <td>0.0</td>\n",
              "      <td>0.0</td>\n",
              "      <td>0.0</td>\n",
              "      <td>0.0</td>\n",
              "      <td>0.0</td>\n",
              "      <td>3.0</td>\n",
              "    </tr>\n",
              "    <tr>\n",
              "      <th>14</th>\n",
              "      <td>0.0</td>\n",
              "      <td>0.0</td>\n",
              "      <td>0.0</td>\n",
              "      <td>0.0</td>\n",
              "      <td>0.0</td>\n",
              "      <td>0.0</td>\n",
              "      <td>0.0</td>\n",
              "      <td>0.0</td>\n",
              "      <td>0.0</td>\n",
              "      <td>0.0</td>\n",
              "      <td>...</td>\n",
              "      <td>0.0</td>\n",
              "      <td>0.0</td>\n",
              "      <td>0.0</td>\n",
              "      <td>0.0</td>\n",
              "      <td>0.0</td>\n",
              "      <td>0.0</td>\n",
              "      <td>0.0</td>\n",
              "      <td>0.0</td>\n",
              "      <td>0.0</td>\n",
              "      <td>0.0</td>\n",
              "    </tr>\n",
              "    <tr>\n",
              "      <th>...</th>\n",
              "      <td>...</td>\n",
              "      <td>...</td>\n",
              "      <td>...</td>\n",
              "      <td>...</td>\n",
              "      <td>...</td>\n",
              "      <td>...</td>\n",
              "      <td>...</td>\n",
              "      <td>...</td>\n",
              "      <td>...</td>\n",
              "      <td>...</td>\n",
              "      <td>...</td>\n",
              "      <td>...</td>\n",
              "      <td>...</td>\n",
              "      <td>...</td>\n",
              "      <td>...</td>\n",
              "      <td>...</td>\n",
              "      <td>...</td>\n",
              "      <td>...</td>\n",
              "      <td>...</td>\n",
              "      <td>...</td>\n",
              "      <td>...</td>\n",
              "    </tr>\n",
              "    <tr>\n",
              "      <th>199976</th>\n",
              "      <td>0.0</td>\n",
              "      <td>0.0</td>\n",
              "      <td>0.0</td>\n",
              "      <td>0.0</td>\n",
              "      <td>0.0</td>\n",
              "      <td>0.0</td>\n",
              "      <td>0.0</td>\n",
              "      <td>0.0</td>\n",
              "      <td>0.0</td>\n",
              "      <td>0.0</td>\n",
              "      <td>...</td>\n",
              "      <td>0.0</td>\n",
              "      <td>0.0</td>\n",
              "      <td>0.0</td>\n",
              "      <td>0.0</td>\n",
              "      <td>0.0</td>\n",
              "      <td>0.0</td>\n",
              "      <td>5.0</td>\n",
              "      <td>0.0</td>\n",
              "      <td>0.0</td>\n",
              "      <td>0.0</td>\n",
              "    </tr>\n",
              "    <tr>\n",
              "      <th>199980</th>\n",
              "      <td>0.0</td>\n",
              "      <td>0.0</td>\n",
              "      <td>0.0</td>\n",
              "      <td>0.0</td>\n",
              "      <td>0.0</td>\n",
              "      <td>0.0</td>\n",
              "      <td>0.0</td>\n",
              "      <td>0.0</td>\n",
              "      <td>0.0</td>\n",
              "      <td>0.0</td>\n",
              "      <td>...</td>\n",
              "      <td>0.0</td>\n",
              "      <td>0.0</td>\n",
              "      <td>0.0</td>\n",
              "      <td>0.0</td>\n",
              "      <td>0.0</td>\n",
              "      <td>0.0</td>\n",
              "      <td>0.0</td>\n",
              "      <td>0.0</td>\n",
              "      <td>0.0</td>\n",
              "      <td>0.0</td>\n",
              "    </tr>\n",
              "    <tr>\n",
              "      <th>199988</th>\n",
              "      <td>0.0</td>\n",
              "      <td>5.0</td>\n",
              "      <td>0.0</td>\n",
              "      <td>0.0</td>\n",
              "      <td>0.0</td>\n",
              "      <td>0.0</td>\n",
              "      <td>0.0</td>\n",
              "      <td>0.0</td>\n",
              "      <td>5.0</td>\n",
              "      <td>0.0</td>\n",
              "      <td>...</td>\n",
              "      <td>0.0</td>\n",
              "      <td>0.0</td>\n",
              "      <td>0.0</td>\n",
              "      <td>0.0</td>\n",
              "      <td>0.0</td>\n",
              "      <td>0.0</td>\n",
              "      <td>0.0</td>\n",
              "      <td>0.0</td>\n",
              "      <td>0.0</td>\n",
              "      <td>0.0</td>\n",
              "    </tr>\n",
              "    <tr>\n",
              "      <th>199990</th>\n",
              "      <td>0.0</td>\n",
              "      <td>0.0</td>\n",
              "      <td>0.0</td>\n",
              "      <td>0.0</td>\n",
              "      <td>0.0</td>\n",
              "      <td>0.0</td>\n",
              "      <td>0.0</td>\n",
              "      <td>0.0</td>\n",
              "      <td>0.0</td>\n",
              "      <td>0.0</td>\n",
              "      <td>...</td>\n",
              "      <td>0.0</td>\n",
              "      <td>0.0</td>\n",
              "      <td>0.0</td>\n",
              "      <td>0.0</td>\n",
              "      <td>0.0</td>\n",
              "      <td>0.0</td>\n",
              "      <td>0.0</td>\n",
              "      <td>0.0</td>\n",
              "      <td>0.0</td>\n",
              "      <td>0.0</td>\n",
              "    </tr>\n",
              "    <tr>\n",
              "      <th>199996</th>\n",
              "      <td>5.0</td>\n",
              "      <td>0.0</td>\n",
              "      <td>0.0</td>\n",
              "      <td>0.0</td>\n",
              "      <td>0.0</td>\n",
              "      <td>0.0</td>\n",
              "      <td>0.0</td>\n",
              "      <td>0.0</td>\n",
              "      <td>0.0</td>\n",
              "      <td>0.0</td>\n",
              "      <td>...</td>\n",
              "      <td>0.0</td>\n",
              "      <td>0.0</td>\n",
              "      <td>0.0</td>\n",
              "      <td>0.0</td>\n",
              "      <td>0.0</td>\n",
              "      <td>0.0</td>\n",
              "      <td>0.0</td>\n",
              "      <td>0.0</td>\n",
              "      <td>0.0</td>\n",
              "      <td>0.0</td>\n",
              "    </tr>\n",
              "  </tbody>\n",
              "</table>\n",
              "<p>53963 rows × 56 columns</p>\n",
              "</div>"
            ],
            "text/plain": [
              "songID  2263    2726    3785    8063    12709   13859   16548   17029   \\\n",
              "userID                                                                   \n",
              "0          0.0     0.0     0.0     0.0     0.0     0.0     0.0     0.0   \n",
              "4          0.0     0.0     0.0     0.0     0.0     0.0     0.0     0.0   \n",
              "5          0.0     0.0     0.0     2.0     0.0     0.0     0.0     0.0   \n",
              "7          0.0     0.0     0.0     0.0     0.0     0.0     0.0     0.0   \n",
              "14         0.0     0.0     0.0     0.0     0.0     0.0     0.0     0.0   \n",
              "...        ...     ...     ...     ...     ...     ...     ...     ...   \n",
              "199976     0.0     0.0     0.0     0.0     0.0     0.0     0.0     0.0   \n",
              "199980     0.0     0.0     0.0     0.0     0.0     0.0     0.0     0.0   \n",
              "199988     0.0     5.0     0.0     0.0     0.0     0.0     0.0     0.0   \n",
              "199990     0.0     0.0     0.0     0.0     0.0     0.0     0.0     0.0   \n",
              "199996     5.0     0.0     0.0     0.0     0.0     0.0     0.0     0.0   \n",
              "\n",
              "songID  19299   19670   ...  113954  119103  120147  122065  123176  125557  \\\n",
              "userID                  ...                                                   \n",
              "0          0.0     0.0  ...     0.0     0.0     0.0     0.0     0.0     0.0   \n",
              "4          0.0     0.0  ...     0.0     0.0     0.0     0.0     0.0     0.0   \n",
              "5          0.0     0.0  ...     0.0     0.0     0.0     0.0     0.0     0.0   \n",
              "7          0.0     0.0  ...     0.0     0.0     0.0     0.0     0.0     0.0   \n",
              "14         0.0     0.0  ...     0.0     0.0     0.0     0.0     0.0     0.0   \n",
              "...        ...     ...  ...     ...     ...     ...     ...     ...     ...   \n",
              "199976     0.0     0.0  ...     0.0     0.0     0.0     0.0     0.0     0.0   \n",
              "199980     0.0     0.0  ...     0.0     0.0     0.0     0.0     0.0     0.0   \n",
              "199988     5.0     0.0  ...     0.0     0.0     0.0     0.0     0.0     0.0   \n",
              "199990     0.0     0.0  ...     0.0     0.0     0.0     0.0     0.0     0.0   \n",
              "199996     0.0     0.0  ...     0.0     0.0     0.0     0.0     0.0     0.0   \n",
              "\n",
              "songID  126757  131048  132189  134732  \n",
              "userID                                  \n",
              "0          0.0     0.0     0.0     0.0  \n",
              "4          0.0     0.0     0.0     0.0  \n",
              "5          0.0     0.0     0.0     0.0  \n",
              "7          0.0     0.0     0.0     3.0  \n",
              "14         0.0     0.0     0.0     0.0  \n",
              "...        ...     ...     ...     ...  \n",
              "199976     5.0     0.0     0.0     0.0  \n",
              "199980     0.0     0.0     0.0     0.0  \n",
              "199988     0.0     0.0     0.0     0.0  \n",
              "199990     0.0     0.0     0.0     0.0  \n",
              "199996     0.0     0.0     0.0     0.0  \n",
              "\n",
              "[53963 rows x 56 columns]"
            ]
          },
          "execution_count": 31,
          "metadata": {},
          "output_type": "execute_result"
        }
      ],
      "source": [
        "utility_matrix = data.pivot_table(index='userID', columns='songID', values='rating', fill_value=0)\n",
        "utility_matrix"
      ]
    },
    {
      "cell_type": "markdown",
      "metadata": {
        "id": "n9QGfMQ6NdjL"
      },
      "source": [
        "## `i` Matrices Initialization\n",
        "\n",
        "Initialize the two random weights matrices $U$ and $M$ (Try $K=3$)\n",
        "\n",
        "**Note**: Refer to the next cell for the dimensions of $U$ and $M$\n",
        "\n",
        "**Hine**: You may use a function from `numpy.random` module (see, [Documentation](https://numpy.org/doc/stable/reference/random/index.html))"
      ]
    },
    {
      "cell_type": "code",
      "execution_count": 32,
      "metadata": {
        "id": "C_EVI8PxNdjL"
      },
      "outputs": [],
      "source": [
        "U = np.random.rand(utility_matrix.shape[0], K)  \n",
        "M = np.random.rand(K, utility_matrix.shape[1])  "
      ]
    },
    {
      "cell_type": "markdown",
      "metadata": {
        "id": "mm4t3qKgNdjM"
      },
      "source": [
        "## `ii` Define a Function to Implement Matrix Factorization\n",
        "\n",
        "**Function Parameters**:\n",
        "- `R`: Utility Matrix [of shape: (no. of users, no. of items)]\n",
        "- `U`: User Latent Features Array [of shape: (no. of users, K)]\n",
        "- `M`: Items Latent Features Array [of shape: (K, no. of items)]\n",
        "- `epochs`: No. of training epochs\n",
        "- `lr`: Learning rate (alpha)\n",
        "- `beta`: Regularization Parameter\n",
        "\n",
        "**Function Output**:\n",
        "- `U`: Optimized User Latent Features Array\n",
        "- `M`: Optimized Items Latent Features Array\n",
        "\n",
        "**Main Procedures**:\n",
        "1. Calculate predicted ratings\n",
        "2. Calculate MSE Error\n",
        "3. Calculate gradients\n",
        "4. Update $U$ and $M$\n"
      ]
    },
    {
      "cell_type": "code",
      "execution_count": 33,
      "metadata": {
        "id": "Lon7ovGdNdjM"
      },
      "outputs": [],
      "source": [
        "def matrix_factorization(R: np.ndarray, U: np.ndarray, M: np.ndarray, epochs: int, lr: float, beta: float):\n",
        "    \"\"\"\n",
        "    Function Parameters:\n",
        "    - `R`: Utility Matrix [of shape: `(no. of users, no. of items)`]\n",
        "    - `U`: User Latent Features Array [of shape: `(no. of users, K)`]\n",
        "    - `M`: Items Latent Features Array [of shape: `(K, no. of items)`]\n",
        "    - `epochs`: No. of training epochs\n",
        "    - `lr`: Learning rate (alpha)\n",
        "    - `beta`: Regularization Parameter\n",
        "\n",
        "    Function Output:\n",
        "    - `U`: Optimized User Latent Features Array\n",
        "    - `M`: Optimized Items Latent Features Array\n",
        "    \"\"\"\n",
        "\n",
        "    # Confirm that no. of features is consistent between U and M\n",
        "    assert U.shape[1] == M.shape[0], f'U and M must have consistent K. Found K={U.shape[1]} for U and K={M.shape[0]} for M'\n",
        "\n",
        "    # Extract No. of Features (K)\n",
        "    K = U.shape[1]\n",
        "\n",
        "    # Define the Epochs loop\n",
        "    for epoch in range(epochs):\n",
        "        # Loop over every element in R\n",
        "        for i in range(R.shape[0]):  # Loop over each user\n",
        "            for j in range(R.shape[1]):  # Loop over each item\n",
        "                if R[i, j] > 0:  # Only proceed if the current interaction (i, j) is not missing\n",
        "                    eij = R[i, j] - np.dot(U[i, :], M[:, j])  # Calculate the error in prediction\n",
        "                    for k in range(K):  # Loop over each latent features dimension\n",
        "                        # Update Rules for both U and M:\n",
        "                        U[i, k] += lr * (2 * eij * M[k, j] - beta * U[i, k])\n",
        "                        M[k, j] += lr * (2 * eij * U[i, k] - beta * M[k, j])\n",
        "\n",
        "        ## Error Calculation ##\n",
        "        e_last = e if epoch > 0 else 100000000\n",
        "        e = 0  # Initialize a variable to accumulate the errors\n",
        "        for i in range(R.shape[0]):  # Loop over each user\n",
        "            for j in range(R.shape[1]):  # Loop over each item\n",
        "                if R[i, j] > 0:  # Only proceed if the current interaction (i, j) is not missing\n",
        "                    # since we only calculate the error for interactions having a ground truth value\n",
        "\n",
        "                    first_part = (R[i, j] - np.dot(U[i, :], M[:, j])) ** 2  # calculate the first part of the error\n",
        "                    second_part = 0  # Initialize a variable to accumulate the second part of the error\n",
        "\n",
        "                    for k in range(K):  # Loop over each latent features dimension\n",
        "                        second_part += (beta / 2) * (U[i, k] ** 2 + M[k, j] ** 2)\n",
        "\n",
        "                    e += first_part + second_part  # accumulate the error to the total error\n",
        "\n",
        "        print(f'Epoch {epoch+1}/{epochs}: Total Error = {e}')\n",
        "\n",
        "        if e < 0.001 or e_last - e < 0.001:  # Stop if error is so small or improvement is not significant\n",
        "            break\n",
        "\n",
        "    return U, M\n"
      ]
    },
    {
      "cell_type": "markdown",
      "metadata": {
        "id": "_eTo-YOaNdjM"
      },
      "source": [
        "### `[Bonus]` Vectorized Error Calculation\n",
        "\n",
        "Can the error calculation part be vectorized to get rid of for loops?\n",
        "\n",
        "If you would like a challenge, try to redefine the function in the next cell with a vectorized error calculation."
      ]
    },
    {
      "cell_type": "code",
      "execution_count": 26,
      "metadata": {
        "id": "Wkwjc7s0NdjN"
      },
      "outputs": [
        {
          "name": "stdout",
          "output_type": "stream",
          "text": [
            "Epoch 1/100: Total Error = 209086.29765459028\n",
            "Epoch 2/100: Total Error = 199264.5161769293\n",
            "Epoch 3/100: Total Error = 190604.75851767053\n",
            "Epoch 4/100: Total Error = 182528.84078908476\n",
            "Epoch 5/100: Total Error = 174942.22575153867\n",
            "Epoch 6/100: Total Error = 167786.95716657213\n",
            "Epoch 7/100: Total Error = 161022.9009092591\n",
            "Epoch 8/100: Total Error = 154619.66840180123\n",
            "Epoch 9/100: Total Error = 148552.48345003583\n",
            "Epoch 10/100: Total Error = 142800.01278430625\n",
            "Epoch 11/100: Total Error = 137343.2080888402\n",
            "Epoch 12/100: Total Error = 132164.67497877934\n",
            "Epoch 13/100: Total Error = 127248.31862786092\n",
            "Epoch 14/100: Total Error = 122579.13552168166\n",
            "Epoch 15/100: Total Error = 118143.08279780106\n",
            "Epoch 16/100: Total Error = 113926.98902755475\n",
            "Epoch 17/100: Total Error = 109918.48735515364\n",
            "Epoch 18/100: Total Error = 106105.96094476072\n",
            "Epoch 19/100: Total Error = 102478.49548414396\n",
            "Epoch 20/100: Total Error = 99025.8360387733\n",
            "Epoch 21/100: Total Error = 95738.34689223516\n",
            "Epoch 22/100: Total Error = 92606.97370677993\n",
            "Epoch 23/100: Total Error = 89623.20769167438\n",
            "Epoch 24/100: Total Error = 86779.05163833132\n",
            "Epoch 25/100: Total Error = 84066.98775713568\n",
            "Epoch 26/100: Total Error = 81479.94727844288\n",
            "Epoch 27/100: Total Error = 79011.28178448188\n",
            "Epoch 28/100: Total Error = 76654.73623312307\n",
            "Epoch 29/100: Total Error = 74404.42362542733\n",
            "Epoch 30/100: Total Error = 72254.80125989694\n",
            "Epoch 31/100: Total Error = 70200.6485088462\n",
            "Epoch 32/100: Total Error = 68237.04604677756\n",
            "Epoch 33/100: Total Error = 66359.35645710365\n",
            "Epoch 34/100: Total Error = 64563.206141781346\n",
            "Epoch 35/100: Total Error = 62844.468458128445\n",
            "Epoch 36/100: Total Error = 61199.24800798491\n",
            "Epoch 37/100: Total Error = 59623.86600617284\n",
            "Epoch 38/100: Total Error = 58114.84665767473\n",
            "Epoch 39/100: Total Error = 56668.90447587566\n",
            "Epoch 40/100: Total Error = 55282.932477454364\n",
            "Epoch 41/100: Total Error = 53953.991192918074\n",
            "Epoch 42/100: Total Error = 52679.298435264864\n",
            "Epoch 43/100: Total Error = 51456.21977275026\n",
            "Epoch 44/100: Total Error = 50282.25965516358\n",
            "Epoch 45/100: Total Error = 49155.053146358936\n",
            "Epoch 46/100: Total Error = 48072.35821899169\n",
            "Epoch 47/100: Total Error = 47032.04857047392\n",
            "Epoch 48/100: Total Error = 46032.106922067054\n",
            "Epoch 49/100: Total Error = 45070.618765769155\n",
            "Epoch 50/100: Total Error = 44145.76652623169\n",
            "Epoch 51/100: Total Error = 43255.824107348075\n",
            "Epoch 52/100: Total Error = 42399.15179541235\n",
            "Epoch 53/100: Total Error = 41574.19149284115\n",
            "Epoch 54/100: Total Error = 40779.46225840524\n",
            "Epoch 55/100: Total Error = 40013.55613172737\n",
            "Epoch 56/100: Total Error = 39275.134221484426\n",
            "Epoch 57/100: Total Error = 38562.92303830686\n",
            "Epoch 58/100: Total Error = 37875.71105481078\n",
            "Epoch 59/100: Total Error = 37212.34547653104\n",
            "Epoch 60/100: Total Error = 36571.72920875499\n",
            "Epoch 61/100: Total Error = 35952.81800539831\n",
            "Epoch 62/100: Total Error = 35354.61778711418\n",
            "Epoch 63/100: Total Error = 34776.18211680369\n",
            "Epoch 64/100: Total Error = 34216.60982158974\n",
            "Epoch 65/100: Total Error = 33675.04275114951\n",
            "Epoch 66/100: Total Error = 33150.66366306591\n",
            "Epoch 67/100: Total Error = 32642.694226565483\n",
            "Epoch 68/100: Total Error = 32150.39313666434\n",
            "Epoch 69/100: Total Error = 31673.05433134661\n",
            "Epoch 70/100: Total Error = 31210.005304956703\n",
            "Epoch 71/100: Total Error = 30760.605511499707\n",
            "Epoch 72/100: Total Error = 30324.24485202082\n",
            "Epoch 73/100: Total Error = 29900.34224066906\n",
            "Epoch 74/100: Total Error = 29488.34424445709\n",
            "Epoch 75/100: Total Error = 29087.72379210003\n",
            "Epoch 76/100: Total Error = 28697.9789476588\n",
            "Epoch 77/100: Total Error = 28318.631745032308\n",
            "Epoch 78/100: Total Error = 27949.227079632266\n",
            "Epoch 79/100: Total Error = 27589.331653843932\n",
            "Epoch 80/100: Total Error = 27238.53297312444\n",
            "Epoch 81/100: Total Error = 26896.438389817664\n",
            "Epoch 82/100: Total Error = 26562.674191973918\n",
            "Epoch 83/100: Total Error = 26236.884734657095\n",
            "Epoch 84/100: Total Error = 25918.731611398533\n",
            "Epoch 85/100: Total Error = 25607.892863620793\n",
            "Epoch 86/100: Total Error = 25304.06222600484\n",
            "Epoch 87/100: Total Error = 25006.94840591157\n",
            "Epoch 88/100: Total Error = 24716.274395097254\n",
            "Epoch 89/100: Total Error = 24431.77681207719\n",
            "Epoch 90/100: Total Error = 24153.205273601452\n",
            "Epoch 91/100: Total Error = 23880.321793803752\n",
            "Epoch 92/100: Total Error = 23612.90020967602\n",
            "Epoch 93/100: Total Error = 23350.72563160594\n",
            "Epoch 94/100: Total Error = 23093.593917789894\n",
            "Epoch 95/100: Total Error = 22841.311171406564\n",
            "Epoch 96/100: Total Error = 22593.69325950134\n",
            "Epoch 97/100: Total Error = 22350.565352592585\n",
            "Epoch 98/100: Total Error = 22111.76148406637\n",
            "Epoch 99/100: Total Error = 21877.124128479438\n",
            "Epoch 100/100: Total Error = 21646.503797936606\n"
          ]
        }
      ],
      "source": [
        "def matrix_factorization(R: np.ndarray, U: np.ndarray, M: np.ndarray, epochs: int, lr: float, beta: float):\n",
        "    \"\"\"\n",
        "    Function Parameters:\n",
        "    - `R`: Utility Matrix [of shape: `(no. of users, no. of items)`]\n",
        "    - `U`: User Latent Features Array [of shape: `(no. of users, K)`]\n",
        "    - `M`: Items Latent Features Array [of shape: `(K, no. of items)`]\n",
        "    - `epochs`: No. of training epochs\n",
        "    - `lr`: Learning rate (alpha)\n",
        "    - `beta`: Regularization Parameter\n",
        "\n",
        "    Function Output:\n",
        "    - `U`: Optimized User Latent Features Array\n",
        "    - `M`: Optimized Items Latent Features Array\n",
        "    \"\"\"\n",
        "\n",
        "    # Confirm that no. of features is consistent between U and M\n",
        "    assert U.shape[1] == M.shape[0], f'U and M must have consistent K. Found K={U.shape[1]} for U and K={M.shape[0]} for M'\n",
        "\n",
        "    # Extract No. of Features (K)\n",
        "    K = U.shape[1]\n",
        "\n",
        "    # Define the Epochs loop\n",
        "    for epoch in range(epochs):\n",
        "        # Loop over every element in R\n",
        "        for i in range(R.shape[0]):  # Loop over each user\n",
        "            for j in range(R.shape[1]):  # Loop over each item\n",
        "                if R[i, j] > 0:  # Only proceed if the current interaction (i, j) is not missing\n",
        "                    eij = R[i, j] - np.dot(U[i, :], M[:, j])  # Calculate the error in prediction\n",
        "                    for k in range(K):  # Loop over each latent features dimension\n",
        "                        # Update Rules for both U and M:\n",
        "                        U[i, k] += lr * (2 * eij * M[k, j] - beta * U[i, k])\n",
        "                        M[k, j] += lr * (2 * eij * U[i, k] - beta * M[k, j])\n",
        "\n",
        "        ## Error Calculation ##\n",
        "        e_last = e if epoch > 0 else 100000000\n",
        "        prediction = U @ M\n",
        "        mask = R > 0\n",
        "        error_matrix = (R - prediction) * mask\n",
        "        squared_error = np.sum(error_matrix**2)\n",
        "        regularization = (beta / 2) * (np.sum(U**2) + np.sum(M**2))\n",
        "        e = squared_error + regularization\n",
        "\n",
        "\n",
        "        print(f'Epoch {epoch+1}/{epochs}: Total Error = {e}')\n",
        "\n",
        "        if e < 0.001 or e_last - e < 0.001:  # Stop if error is so small or improvement is not significant\n",
        "            break\n",
        "\n",
        "    return U, M\n",
        "\n",
        "U, M = matrix_factorization(utility_matrix.values, U, M, EPOCHS, LR, BETA)"
      ]
    },
    {
      "cell_type": "markdown",
      "metadata": {
        "id": "1jDu2LCeNdjN"
      },
      "source": [
        "## `iii` Use the Function to to Optimize the $U$ and $V$"
      ]
    },
    {
      "cell_type": "code",
      "execution_count": 34,
      "metadata": {
        "id": "tyUWxdKzNdjN"
      },
      "outputs": [
        {
          "name": "stdout",
          "output_type": "stream",
          "text": [
            "Epoch 1/100: Total Error = 214324.89794190146\n",
            "Epoch 2/100: Total Error = 204677.68823852786\n",
            "Epoch 3/100: Total Error = 196080.62432608692\n",
            "Epoch 4/100: Total Error = 188075.57753761247\n",
            "Epoch 5/100: Total Error = 180569.2443349804\n",
            "Epoch 6/100: Total Error = 173500.95182463003\n",
            "Epoch 7/100: Total Error = 166828.1609254304\n",
            "Epoch 8/100: Total Error = 160518.61874176317\n",
            "Epoch 9/100: Total Error = 154546.15995484972\n",
            "Epoch 10/100: Total Error = 148888.4334926426\n",
            "Epoch 11/100: Total Error = 143525.65131613982\n",
            "Epoch 12/100: Total Error = 138439.88473751934\n",
            "Epoch 13/100: Total Error = 133614.6564180558\n",
            "Epoch 14/100: Total Error = 129034.69328604167\n",
            "Epoch 15/100: Total Error = 124685.76778543297\n",
            "Epoch 16/100: Total Error = 120554.58815563745\n",
            "Epoch 17/100: Total Error = 116628.71639372416\n",
            "Epoch 18/100: Total Error = 112896.5022827718\n",
            "Epoch 19/100: Total Error = 109347.02716600803\n",
            "Epoch 20/100: Total Error = 105970.05403148964\n",
            "Epoch 21/100: Total Error = 102755.98204148798\n",
            "Epoch 22/100: Total Error = 99695.80448947476\n",
            "Epoch 23/100: Total Error = 96781.06962185813\n",
            "Epoch 24/100: Total Error = 94003.84400044795\n",
            "Epoch 25/100: Total Error = 91356.67820353924\n",
            "Epoch 26/100: Total Error = 88832.57472330566\n",
            "Epoch 27/100: Total Error = 86424.9579442896\n",
            "Epoch 28/100: Total Error = 84127.64609893833\n",
            "Epoch 29/100: Total Error = 81934.825099673\n",
            "Epoch 30/100: Total Error = 79841.02414779372\n",
            "Epoch 31/100: Total Error = 77841.09301962634\n",
            "Epoch 32/100: Total Error = 75930.18093097598\n",
            "Epoch 33/100: Total Error = 74103.71688237575\n",
            "Epoch 34/100: Total Error = 72357.39138990306\n",
            "Epoch 35/100: Total Error = 70687.13950945101\n",
            "Epoch 36/100: Total Error = 69089.12506602613\n",
            "Epoch 37/100: Total Error = 67559.7260037856\n",
            "Epoch 38/100: Total Error = 66095.52077692733\n",
            "Epoch 39/100: Total Error = 64693.27570617939\n",
            "Epoch 40/100: Total Error = 63349.933230143215\n",
            "Epoch 41/100: Total Error = 62062.600985449375\n",
            "Epoch 42/100: Total Error = 60828.541653989414\n",
            "Epoch 43/100: Total Error = 59645.16351993333\n",
            "Epoch 44/100: Total Error = 58510.01168323242\n",
            "Epoch 45/100: Total Error = 57420.759880283884\n",
            "Epoch 46/100: Total Error = 56375.20286608572\n",
            "Epoch 47/100: Total Error = 55371.24931564958\n",
            "Epoch 48/100: Total Error = 54406.91520570338\n",
            "Epoch 49/100: Total Error = 53480.31764067852\n",
            "Epoch 50/100: Total Error = 52589.669089802745\n",
            "Epoch 51/100: Total Error = 51733.27200469722\n",
            "Epoch 52/100: Total Error = 50909.51378924709\n",
            "Epoch 53/100: Total Error = 50116.86209577758\n",
            "Epoch 54/100: Total Error = 49353.860423550024\n",
            "Epoch 55/100: Total Error = 48619.12399750105\n",
            "Epoch 56/100: Total Error = 47911.33590689086\n",
            "Epoch 57/100: Total Error = 47229.2434850776\n",
            "Epoch 58/100: Total Error = 46571.65491313851\n",
            "Epoch 59/100: Total Error = 45937.43603138626\n",
            "Epoch 60/100: Total Error = 45325.50734406078\n",
            "Epoch 61/100: Total Error = 44734.84120363135\n",
            "Epoch 62/100: Total Error = 44164.459162188105\n",
            "Epoch 63/100: Total Error = 43613.42947833677\n",
            "Epoch 64/100: Total Error = 43080.86476892384\n",
            "Epoch 65/100: Total Error = 42565.919795741225\n",
            "Epoch 66/100: Total Error = 42067.789378055866\n",
            "Epoch 67/100: Total Error = 41585.7064225599\n",
            "Epoch 68/100: Total Error = 41118.94006293161\n",
            "Epoch 69/100: Total Error = 40666.79390179353\n",
            "Epoch 70/100: Total Error = 40228.60434838589\n",
            "Epoch 71/100: Total Error = 39803.739045785645\n",
            "Epoch 72/100: Total Error = 39391.59538193657\n",
            "Epoch 73/100: Total Error = 38991.599079177075\n",
            "Epoch 74/100: Total Error = 38603.20285737429\n",
            "Epoch 75/100: Total Error = 38225.885166083535\n",
            "Epoch 76/100: Total Error = 37859.148981506405\n",
            "Epoch 77/100: Total Error = 37502.52066434497\n",
            "Epoch 78/100: Total Error = 37155.54887487281\n",
            "Epoch 79/100: Total Error = 36817.80354188128\n",
            "Epoch 80/100: Total Error = 36488.8748823245\n",
            "Epoch 81/100: Total Error = 36168.3724687512\n",
            "Epoch 82/100: Total Error = 35855.92434181441\n",
            "Epoch 83/100: Total Error = 35551.176165306715\n",
            "Epoch 84/100: Total Error = 35253.79042138073\n",
            "Epoch 85/100: Total Error = 34963.445643747116\n",
            "Epoch 86/100: Total Error = 34679.835686803664\n",
            "Epoch 87/100: Total Error = 34402.6690287782\n",
            "Epoch 88/100: Total Error = 34131.66810709672\n",
            "Epoch 89/100: Total Error = 33866.56868430316\n",
            "Epoch 90/100: Total Error = 33607.11924296352\n",
            "Epoch 91/100: Total Error = 33353.080408085116\n",
            "Epoch 92/100: Total Error = 33104.22439567249\n",
            "Epoch 93/100: Total Error = 32860.33448612785\n",
            "Epoch 94/100: Total Error = 32621.20452127226\n",
            "Epoch 95/100: Total Error = 32386.638423852128\n",
            "Epoch 96/100: Total Error = 32156.44973844115\n",
            "Epoch 97/100: Total Error = 31930.461192719144\n",
            "Epoch 98/100: Total Error = 31708.504278179058\n",
            "Epoch 99/100: Total Error = 31490.418849328984\n",
            "Epoch 100/100: Total Error = 31276.052740552404\n"
          ]
        }
      ],
      "source": [
        "U, M = matrix_factorization(R=utility_matrix.values, U=U, M=M, epochs=EPOCHS, lr=LR, beta=BETA)"
      ]
    },
    {
      "cell_type": "markdown",
      "metadata": {
        "id": "RqASGwFQNdjN"
      },
      "source": [
        "## `iv` Recommend top-K Songs\n",
        "\n",
        "Recommend top-K ($K=5$) songs for user ($userID=199988$)\n",
        "\n",
        "Note: Make sure to filter songs they already rated before"
      ]
    },
    {
      "cell_type": "code",
      "execution_count": 35,
      "metadata": {},
      "outputs": [
        {
          "name": "stdout",
          "output_type": "stream",
          "text": [
            "Top-5 Recommended Songs for User 199988: [71582, 122065, 2263, 52611, 13859]\n"
          ]
        }
      ],
      "source": [
        "user_id = 199988\n",
        "\n",
        "# Get the index of the user in the utility matrix\n",
        "user_index = utility_matrix.index.get_loc(user_id)\n",
        "\n",
        "# Calculate predicted ratings for the user\n",
        "predicted_ratings = np.dot(U[user_index, :], M)\n",
        "\n",
        "# Get the songs the user has already rated\n",
        "rated_songs = utility_matrix.loc[user_id][utility_matrix.loc[user_id] > 0].index\n",
        "\n",
        "# Filter out songs the user has already rated\n",
        "recommendations = {song_id: rating for song_id, rating in zip(utility_matrix.columns, predicted_ratings) if song_id not in rated_songs}\n",
        "\n",
        "# Sort the recommendations by predicted rating in descending order\n",
        "sorted_recommendations = sorted(recommendations.items(), key=lambda x: x[1], reverse=True)\n",
        "\n",
        "# Get the top-K song IDs\n",
        "top_k_songs = [song_id for song_id, _ in sorted_recommendations[:K]]\n",
        "\n",
        "print(f\"Top-{K} Recommended Songs for User {user_id}: {top_k_songs}\")"
      ]
    },
    {
      "cell_type": "code",
      "execution_count": 36,
      "metadata": {},
      "outputs": [
        {
          "name": "stdout",
          "output_type": "stream",
          "text": [
            "Top 5 recommended songs for User 199988:\n",
            "\t -Top 1 Song: 71582, Predicted Rating: 5.0467\n",
            "\t -Top 2 Song: 122065, Predicted Rating: 4.9731\n",
            "\t -Top 3 Song: 2263, Predicted Rating: 4.9458\n",
            "\t -Top 4 Song: 52611, Predicted Rating: 4.9434\n",
            "\t -Top 5 Song: 13859, Predicted Rating: 4.9138\n"
          ]
        }
      ],
      "source": [
        "user_id_to_recommend = 199988\n",
        "num_recommendations = 5\n",
        "\n",
        "user_index = utility_matrix.index.get_loc(user_id_to_recommend)\n",
        "\n",
        "# Predict ratings for the user for all songs\n",
        "predicted_ratings = np.dot(U[user_index, :], M)\n",
        "\n",
        "# Get the songs the user has already rated\n",
        "rated_songs = data[data['userID'] == user_id_to_recommend]['songID'].tolist()\n",
        "\n",
        "predicted_ratings_series = pd.Series(predicted_ratings, index=utility_matrix.columns)\n",
        "\n",
        "# Filter out songs the user has already rated\n",
        "unrated_songs_predicted_ratings = predicted_ratings_series.drop(rated_songs, errors='ignore')\n",
        "\n",
        "# Get the top N songs based on predicted ratings\n",
        "top_k_recommendations = unrated_songs_predicted_ratings.sort_values(ascending=False).head(num_recommendations)\n",
        "\n",
        "print(f\"Top {num_recommendations} recommended songs for User {user_id_to_recommend}:\")\n",
        "for i, (song_id, predicted_rating) in enumerate(top_k_recommendations.items()):\n",
        "    print(f\"\\t -Top {i+1} Song: {song_id}, Predicted Rating: {predicted_rating:.4f}\")"
      ]
    },
    {
      "cell_type": "markdown",
      "metadata": {
        "id": "3x8YZKJFNdjO"
      },
      "source": [
        "------------------------\n",
        "\n",
        "# `04` Matrix Factorization using SVD Algorithm\n",
        "\n",
        "Practice for using `SVD` algorithm implementation from `scikit surprise` library."
      ]
    },
    {
      "cell_type": "markdown",
      "metadata": {
        "id": "m6-zG0jINdjO"
      },
      "source": [
        "## `i` Prepare the Data\n",
        "\n",
        "- Load the Data into `surprise` Dataset\n",
        "- Split data into train and test\n"
      ]
    },
    {
      "cell_type": "code",
      "execution_count": 50,
      "metadata": {},
      "outputs": [],
      "source": []
    },
    {
      "cell_type": "code",
      "execution_count": 42,
      "metadata": {
        "id": "ouBYdJGQNdjO"
      },
      "outputs": [],
      "source": [
        "data_surprise = pd.read_csv(\"Data/songsDataset.csv\")\n",
        "\n",
        "reader = Reader(rating_scale=(0, 15))\n",
        "data_surprise = Dataset.load_from_df(data_surprise[['userID', 'songID', 'rating']], reader)\n",
        "\n",
        "trainset, testset = train_test_split(data_surprise, test_size=0.3, random_state=SEED)"
      ]
    },
    {
      "cell_type": "markdown",
      "metadata": {
        "id": "R-bvTaz0NdjO"
      },
      "source": [
        "## `ii` Model Initialization\n",
        "\n",
        "Instantiate two models:\n",
        "- Model with baselines (biases)\n",
        "- Model without baselines\n",
        "\n",
        "**Note**: Use `surprise.prediction_algorithms.matrix_factorization.SVD` (see, [Documentation](https://surprise.readthedocs.io/en/stable/matrix_factorization.html#:~:text=surprise.prediction_algorithms.matrix_factorization.-,SVD,-(n_factors%3D)))"
      ]
    },
    {
      "cell_type": "code",
      "execution_count": 43,
      "metadata": {
        "id": "3to8YADlNdjO"
      },
      "outputs": [],
      "source": [
        "# Biased Model\n",
        "baised_model = SVD(n_factors=100, n_epochs=20, biased=True, init_mean=0, init_std_dev=0.1, lr_all=0.005, reg_all=0.02)"
      ]
    },
    {
      "cell_type": "code",
      "execution_count": 44,
      "metadata": {
        "id": "Ddmzo9xoNdjO"
      },
      "outputs": [],
      "source": [
        "# Non-Biased Model\n",
        "non_baised_model = SVD(n_factors=100, n_epochs=20, biased=False, init_mean=0, init_std_dev=0.1, lr_all=0.005, reg_all=0.02)"
      ]
    },
    {
      "cell_type": "markdown",
      "metadata": {
        "id": "nQsysgRlNdjO"
      },
      "source": [
        "## `iii` Fit each Model on Training Data"
      ]
    },
    {
      "cell_type": "code",
      "execution_count": 45,
      "metadata": {
        "id": "FOW7dnTCNdjP"
      },
      "outputs": [
        {
          "data": {
            "text/plain": [
              "<surprise.prediction_algorithms.matrix_factorization.SVD at 0x78243b13d570>"
            ]
          },
          "execution_count": 45,
          "metadata": {},
          "output_type": "execute_result"
        }
      ],
      "source": [
        "# Biased Model\n",
        "baised_model.fit(trainset)"
      ]
    },
    {
      "cell_type": "code",
      "execution_count": 46,
      "metadata": {
        "id": "ox0tzP1gNdjP"
      },
      "outputs": [
        {
          "data": {
            "text/plain": [
              "<surprise.prediction_algorithms.matrix_factorization.SVD at 0x78243b13cac0>"
            ]
          },
          "execution_count": 46,
          "metadata": {},
          "output_type": "execute_result"
        }
      ],
      "source": [
        "# Non-Biased Model\n",
        "non_baised_model.fit(trainset)"
      ]
    },
    {
      "cell_type": "markdown",
      "metadata": {
        "id": "lGfQq52SNdjP"
      },
      "source": [
        "## `iv` Test both Models on the Testing Data\n",
        "\n",
        "Compare the errors of the two models using multiple error formulas.\n",
        "\n",
        "**Note**: Refer to `surprise.accuracy` module (see, [Documentation](https://surprise.readthedocs.io/en/stable/accuracy.html))"
      ]
    },
    {
      "cell_type": "code",
      "execution_count": 51,
      "metadata": {
        "id": "yyY7nwOvNdjP"
      },
      "outputs": [
        {
          "name": "stdout",
          "output_type": "stream",
          "text": [
            "MAE:  1.2969\n"
          ]
        },
        {
          "data": {
            "text/plain": [
              "1.2969336878552074"
            ]
          },
          "execution_count": 51,
          "metadata": {},
          "output_type": "execute_result"
        }
      ],
      "source": [
        "# Biased Model\n",
        "predicted_rating = baised_model.test(testset)\n",
        "mae(predicted_rating, verbose=True)"
      ]
    },
    {
      "cell_type": "code",
      "execution_count": 52,
      "metadata": {
        "id": "FeWbr8QXNdjP"
      },
      "outputs": [
        {
          "name": "stdout",
          "output_type": "stream",
          "text": [
            "MAE:  1.9338\n"
          ]
        },
        {
          "data": {
            "text/plain": [
              "1.933818206642214"
            ]
          },
          "execution_count": 52,
          "metadata": {},
          "output_type": "execute_result"
        }
      ],
      "source": [
        "# Non-Biased Model\n",
        "predicted_rating = non_baised_model.test(testset)\n",
        "mae(predicted_rating, verbose=True)"
      ]
    },
    {
      "cell_type": "markdown",
      "metadata": {
        "id": "A0IT0KdgNdjQ"
      },
      "source": [
        "## `v` Recommend Top $10$ Songs for User $199988$\n",
        "\n",
        "Is there a difference in recommended songs from the two models?"
      ]
    },
    {
      "cell_type": "code",
      "execution_count": 53,
      "metadata": {
        "id": "HDN47NMJNdjQ"
      },
      "outputs": [
        {
          "name": "stdout",
          "output_type": "stream",
          "text": [
            "Top 10 recommended songs for User 199988 (Biased Model):\n"
          ]
        },
        {
          "data": {
            "text/html": [
              "<style type=\"text/css\">\n",
              "#T_0993e_row0_col0 {\n",
              "  background-color: #b33b02;\n",
              "  color: #f1f1f1;\n",
              "}\n",
              "#T_0993e_row0_col1, #T_0993e_row2_col0 {\n",
              "  background-color: #7f2704;\n",
              "  color: #f1f1f1;\n",
              "}\n",
              "#T_0993e_row1_col0 {\n",
              "  background-color: #c84202;\n",
              "  color: #f1f1f1;\n",
              "}\n",
              "#T_0993e_row1_col1 {\n",
              "  background-color: #c03f02;\n",
              "  color: #f1f1f1;\n",
              "}\n",
              "#T_0993e_row2_col1 {\n",
              "  background-color: #fa8331;\n",
              "  color: #f1f1f1;\n",
              "}\n",
              "#T_0993e_row3_col0 {\n",
              "  background-color: #8b2c04;\n",
              "  color: #f1f1f1;\n",
              "}\n",
              "#T_0993e_row3_col1 {\n",
              "  background-color: #fdba7f;\n",
              "  color: #000000;\n",
              "}\n",
              "#T_0993e_row4_col0 {\n",
              "  background-color: #fff1e4;\n",
              "  color: #000000;\n",
              "}\n",
              "#T_0993e_row4_col1 {\n",
              "  background-color: #fdc590;\n",
              "  color: #000000;\n",
              "}\n",
              "#T_0993e_row5_col0, #T_0993e_row9_col1 {\n",
              "  background-color: #fff5eb;\n",
              "  color: #000000;\n",
              "}\n",
              "#T_0993e_row5_col1, #T_0993e_row8_col0 {\n",
              "  background-color: #fdcfa0;\n",
              "  color: #000000;\n",
              "}\n",
              "#T_0993e_row6_col0 {\n",
              "  background-color: #fda45d;\n",
              "  color: #000000;\n",
              "}\n",
              "#T_0993e_row6_col1 {\n",
              "  background-color: #fedcbb;\n",
              "  color: #000000;\n",
              "}\n",
              "#T_0993e_row7_col0 {\n",
              "  background-color: #fd9c51;\n",
              "  color: #000000;\n",
              "}\n",
              "#T_0993e_row7_col1 {\n",
              "  background-color: #fedfc0;\n",
              "  color: #000000;\n",
              "}\n",
              "#T_0993e_row8_col1 {\n",
              "  background-color: #fff5ea;\n",
              "  color: #000000;\n",
              "}\n",
              "#T_0993e_row9_col0 {\n",
              "  background-color: #e15307;\n",
              "  color: #f1f1f1;\n",
              "}\n",
              "</style>\n",
              "<table id=\"T_0993e\">\n",
              "  <thead>\n",
              "    <tr>\n",
              "      <th class=\"blank level0\" >&nbsp;</th>\n",
              "      <th id=\"T_0993e_level0_col0\" class=\"col_heading level0 col0\" >songID</th>\n",
              "      <th id=\"T_0993e_level0_col1\" class=\"col_heading level0 col1\" >predicted_rating</th>\n",
              "    </tr>\n",
              "  </thead>\n",
              "  <tbody>\n",
              "    <tr>\n",
              "      <th id=\"T_0993e_level0_row0\" class=\"row_heading level0 row0\" >8</th>\n",
              "      <td id=\"T_0993e_row0_col0\" class=\"data row0 col0\" >112023</td>\n",
              "      <td id=\"T_0993e_row0_col1\" class=\"data row0 col1\" >4.947587</td>\n",
              "    </tr>\n",
              "    <tr>\n",
              "      <th id=\"T_0993e_level0_row1\" class=\"row_heading level0 row1\" >39</th>\n",
              "      <td id=\"T_0993e_row1_col0\" class=\"data row1 col0\" >105433</td>\n",
              "      <td id=\"T_0993e_row1_col1\" class=\"data row1 col1\" >4.801477</td>\n",
              "    </tr>\n",
              "    <tr>\n",
              "      <th id=\"T_0993e_level0_row2\" class=\"row_heading level0 row2\" >43</th>\n",
              "      <td id=\"T_0993e_row2_col0\" class=\"data row2 col0\" >132189</td>\n",
              "      <td id=\"T_0993e_row2_col1\" class=\"data row2 col1\" >4.584482</td>\n",
              "    </tr>\n",
              "    <tr>\n",
              "      <th id=\"T_0993e_level0_row3\" class=\"row_heading level0 row3\" >16</th>\n",
              "      <td id=\"T_0993e_row3_col0\" class=\"data row3 col0\" >126757</td>\n",
              "      <td id=\"T_0993e_row3_col1\" class=\"data row3 col1\" >4.427629</td>\n",
              "    </tr>\n",
              "    <tr>\n",
              "      <th id=\"T_0993e_level0_row4\" class=\"row_heading level0 row4\" >53</th>\n",
              "      <td id=\"T_0993e_row4_col0\" class=\"data row4 col0\" >8063</td>\n",
              "      <td id=\"T_0993e_row4_col1\" class=\"data row4 col1\" >4.398302</td>\n",
              "    </tr>\n",
              "    <tr>\n",
              "      <th id=\"T_0993e_level0_row5\" class=\"row_heading level0 row5\" >28</th>\n",
              "      <td id=\"T_0993e_row5_col0\" class=\"data row5 col0\" >3785</td>\n",
              "      <td id=\"T_0993e_row5_col1\" class=\"data row5 col1\" >4.369807</td>\n",
              "    </tr>\n",
              "    <tr>\n",
              "      <th id=\"T_0993e_level0_row6\" class=\"row_heading level0 row6\" >35</th>\n",
              "      <td id=\"T_0993e_row6_col0\" class=\"data row6 col0\" >56660</td>\n",
              "      <td id=\"T_0993e_row6_col1\" class=\"data row6 col1\" >4.312062</td>\n",
              "    </tr>\n",
              "    <tr>\n",
              "      <th id=\"T_0993e_level0_row7\" class=\"row_heading level0 row7\" >20</th>\n",
              "      <td id=\"T_0993e_row7_col0\" class=\"data row7 col0\" >60465</td>\n",
              "      <td id=\"T_0993e_row7_col1\" class=\"data row7 col1\" >4.300019</td>\n",
              "    </tr>\n",
              "    <tr>\n",
              "      <th id=\"T_0993e_level0_row8\" class=\"row_heading level0 row8\" >32</th>\n",
              "      <td id=\"T_0993e_row8_col0\" class=\"data row8 col0\" >36561</td>\n",
              "      <td id=\"T_0993e_row8_col1\" class=\"data row8 col1\" >4.178467</td>\n",
              "    </tr>\n",
              "    <tr>\n",
              "      <th id=\"T_0993e_level0_row9\" class=\"row_heading level0 row9\" >6</th>\n",
              "      <td id=\"T_0993e_row9_col0\" class=\"data row9 col0\" >94604</td>\n",
              "      <td id=\"T_0993e_row9_col1\" class=\"data row9 col1\" >4.172563</td>\n",
              "    </tr>\n",
              "  </tbody>\n",
              "</table>\n"
            ],
            "text/plain": [
              "<pandas.io.formats.style.Styler at 0x7824987cfb50>"
            ]
          },
          "execution_count": 53,
          "metadata": {},
          "output_type": "execute_result"
        }
      ],
      "source": [
        "# Biased Model\n",
        "\n",
        "# Get all unique song IDs from the testset\n",
        "all_song_ids = set([song_rating[1] for song_rating in testset])\n",
        "# Get the song IDs that the specific user has rated in the testset\n",
        "rated_song_ids = set([song_rating[1] for song_rating in testset if song_rating[0] == user_id])\n",
        "# Find the song IDs that the user has not rated in the testset\n",
        "unrated_song_ids = list(all_song_ids - rated_song_ids)\n",
        "\n",
        "predictions = [baised_model.predict(user_id, song_id) for song_id in unrated_song_ids]\n",
        "\n",
        "predictions_df = pd.DataFrame([(pred.iid, pred.est) for pred in predictions], columns=['songID', 'predicted_rating'])\n",
        "top_10 = predictions_df.sort_values(by='predicted_rating', ascending=False).head(10)\n",
        "\n",
        "print(f\"Top 10 recommended songs for User {user_id} (Biased Model):\")\n",
        "top_10.head(10).style.background_gradient(cmap='Oranges')\n"
      ]
    },
    {
      "cell_type": "code",
      "execution_count": 54,
      "metadata": {
        "id": "uDK2TLB0NdjQ"
      },
      "outputs": [
        {
          "name": "stdout",
          "output_type": "stream",
          "text": [
            "Top 10 recommended songs for User 199988 (Non Biased Model):\n"
          ]
        },
        {
          "data": {
            "text/html": [
              "<style type=\"text/css\">\n",
              "#T_1e98e_row0_col0 {\n",
              "  background-color: #fd9f56;\n",
              "  color: #000000;\n",
              "}\n",
              "#T_1e98e_row0_col1, #T_1e98e_row2_col0 {\n",
              "  background-color: #7f2704;\n",
              "  color: #f1f1f1;\n",
              "}\n",
              "#T_1e98e_row1_col0 {\n",
              "  background-color: #fdbd83;\n",
              "  color: #000000;\n",
              "}\n",
              "#T_1e98e_row1_col1 {\n",
              "  background-color: #fd8f3e;\n",
              "  color: #f1f1f1;\n",
              "}\n",
              "#T_1e98e_row2_col1 {\n",
              "  background-color: #fd994d;\n",
              "  color: #000000;\n",
              "}\n",
              "#T_1e98e_row3_col0 {\n",
              "  background-color: #fb8634;\n",
              "  color: #f1f1f1;\n",
              "}\n",
              "#T_1e98e_row3_col1 {\n",
              "  background-color: #fdcfa0;\n",
              "  color: #000000;\n",
              "}\n",
              "#T_1e98e_row4_col0 {\n",
              "  background-color: #db4b03;\n",
              "  color: #f1f1f1;\n",
              "}\n",
              "#T_1e98e_row4_col1 {\n",
              "  background-color: #fdd3a9;\n",
              "  color: #000000;\n",
              "}\n",
              "#T_1e98e_row5_col0 {\n",
              "  background-color: #de4e05;\n",
              "  color: #f1f1f1;\n",
              "}\n",
              "#T_1e98e_row5_col1 {\n",
              "  background-color: #fdd9b5;\n",
              "  color: #000000;\n",
              "}\n",
              "#T_1e98e_row6_col0, #T_1e98e_row9_col1 {\n",
              "  background-color: #fff5eb;\n",
              "  color: #000000;\n",
              "}\n",
              "#T_1e98e_row6_col1 {\n",
              "  background-color: #fee3c8;\n",
              "  color: #000000;\n",
              "}\n",
              "#T_1e98e_row7_col0 {\n",
              "  background-color: #fedebd;\n",
              "  color: #000000;\n",
              "}\n",
              "#T_1e98e_row7_col1 {\n",
              "  background-color: #fee7d0;\n",
              "  color: #000000;\n",
              "}\n",
              "#T_1e98e_row8_col0 {\n",
              "  background-color: #fda863;\n",
              "  color: #000000;\n",
              "}\n",
              "#T_1e98e_row8_col1 {\n",
              "  background-color: #fff3e7;\n",
              "  color: #000000;\n",
              "}\n",
              "#T_1e98e_row9_col0 {\n",
              "  background-color: #812804;\n",
              "  color: #f1f1f1;\n",
              "}\n",
              "</style>\n",
              "<table id=\"T_1e98e\">\n",
              "  <thead>\n",
              "    <tr>\n",
              "      <th class=\"blank level0\" >&nbsp;</th>\n",
              "      <th id=\"T_1e98e_level0_col0\" class=\"col_heading level0 col0\" >songID</th>\n",
              "      <th id=\"T_1e98e_level0_col1\" class=\"col_heading level0 col1\" >predicted_rating</th>\n",
              "    </tr>\n",
              "  </thead>\n",
              "  <tbody>\n",
              "    <tr>\n",
              "      <th id=\"T_1e98e_level0_row0\" class=\"row_heading level0 row0\" >35</th>\n",
              "      <td id=\"T_1e98e_row0_col0\" class=\"data row0 col0\" >56660</td>\n",
              "      <td id=\"T_1e98e_row0_col1\" class=\"data row0 col1\" >4.694402</td>\n",
              "    </tr>\n",
              "    <tr>\n",
              "      <th id=\"T_1e98e_level0_row1\" class=\"row_heading level0 row1\" >2</th>\n",
              "      <td id=\"T_1e98e_row1_col0\" class=\"data row1 col0\" >43267</td>\n",
              "      <td id=\"T_1e98e_row1_col1\" class=\"data row1 col1\" >2.875574</td>\n",
              "    </tr>\n",
              "    <tr>\n",
              "      <th id=\"T_1e98e_level0_row2\" class=\"row_heading level0 row2\" >16</th>\n",
              "      <td id=\"T_1e98e_row2_col0\" class=\"data row2 col0\" >126757</td>\n",
              "      <td id=\"T_1e98e_row2_col1\" class=\"data row2 col1\" >2.739632</td>\n",
              "    </tr>\n",
              "    <tr>\n",
              "      <th id=\"T_1e98e_level0_row3\" class=\"row_heading level0 row3\" >42</th>\n",
              "      <td id=\"T_1e98e_row3_col0\" class=\"data row3 col0\" >68572</td>\n",
              "      <td id=\"T_1e98e_row3_col1\" class=\"data row3 col1\" >2.033218</td>\n",
              "    </tr>\n",
              "    <tr>\n",
              "      <th id=\"T_1e98e_level0_row4\" class=\"row_heading level0 row4\" >26</th>\n",
              "      <td id=\"T_1e98e_row4_col0\" class=\"data row4 col0\" >94535</td>\n",
              "      <td id=\"T_1e98e_row4_col1\" class=\"data row4 col1\" >1.945414</td>\n",
              "    </tr>\n",
              "    <tr>\n",
              "      <th id=\"T_1e98e_level0_row5\" class=\"row_heading level0 row5\" >31</th>\n",
              "      <td id=\"T_1e98e_row5_col0\" class=\"data row5 col0\" >92881</td>\n",
              "      <td id=\"T_1e98e_row5_col1\" class=\"data row5 col1\" >1.811115</td>\n",
              "    </tr>\n",
              "    <tr>\n",
              "      <th id=\"T_1e98e_level0_row6\" class=\"row_heading level0 row6\" >28</th>\n",
              "      <td id=\"T_1e98e_row6_col0\" class=\"data row6 col0\" >3785</td>\n",
              "      <td id=\"T_1e98e_row6_col1\" class=\"data row6 col1\" >1.621878</td>\n",
              "    </tr>\n",
              "    <tr>\n",
              "      <th id=\"T_1e98e_level0_row7\" class=\"row_heading level0 row7\" >44</th>\n",
              "      <td id=\"T_1e98e_row7_col0\" class=\"data row7 col0\" >25182</td>\n",
              "      <td id=\"T_1e98e_row7_col1\" class=\"data row7 col1\" >1.531674</td>\n",
              "    </tr>\n",
              "    <tr>\n",
              "      <th id=\"T_1e98e_level0_row8\" class=\"row_heading level0 row8\" >1</th>\n",
              "      <td id=\"T_1e98e_row8_col0\" class=\"data row8 col0\" >52611</td>\n",
              "      <td id=\"T_1e98e_row8_col1\" class=\"data row8 col1\" >1.180511</td>\n",
              "    </tr>\n",
              "    <tr>\n",
              "      <th id=\"T_1e98e_level0_row9\" class=\"row_heading level0 row9\" >52</th>\n",
              "      <td id=\"T_1e98e_row9_col0\" class=\"data row9 col0\" >125557</td>\n",
              "      <td id=\"T_1e98e_row9_col1\" class=\"data row9 col1\" >1.110594</td>\n",
              "    </tr>\n",
              "  </tbody>\n",
              "</table>\n"
            ],
            "text/plain": [
              "<pandas.io.formats.style.Styler at 0x782448218df0>"
            ]
          },
          "execution_count": 54,
          "metadata": {},
          "output_type": "execute_result"
        }
      ],
      "source": [
        "# Non-Biased Model\n",
        "\n",
        "# Get all unique song IDs from the testset\n",
        "all_song_ids = set([song_rating[1] for song_rating in testset])\n",
        "# Get the song IDs that the specific user has rated in the testset\n",
        "rated_song_ids = set([song_rating[1] for song_rating in testset if song_rating[0] == user_id])\n",
        "# Find the song IDs that the user has not rated in the testset\n",
        "unrated_song_ids = list(all_song_ids - rated_song_ids)\n",
        "\n",
        "predictions = [non_baised_model.predict(user_id, song_id) for song_id in unrated_song_ids]\n",
        "\n",
        "predictions_df = pd.DataFrame([(pred.iid, pred.est) for pred in predictions], columns=['songID', 'predicted_rating'])\n",
        "top_10 = predictions_df.sort_values(by='predicted_rating', ascending=False).head(10)\n",
        "\n",
        "print(f\"Top 10 recommended songs for User {user_id} (Non Biased Model):\")\n",
        "top_10.head(10).style.background_gradient(cmap='Oranges')\n"
      ]
    },
    {
      "cell_type": "markdown",
      "metadata": {
        "id": "F4830HYlNdjQ"
      },
      "source": [
        "----------------------------------------------\n",
        "\n",
        "$$ Wish \\space you \\space all \\space the \\space best \\space ♡ $$\n",
        "$$ Abdelrahman \\space Eid $$"
      ]
    }
  ],
  "metadata": {
    "colab": {
      "provenance": []
    },
    "kernelspec": {
      "display_name": "base",
      "language": "python",
      "name": "python3"
    },
    "language_info": {
      "codemirror_mode": {
        "name": "ipython",
        "version": 3
      },
      "file_extension": ".py",
      "mimetype": "text/x-python",
      "name": "python",
      "nbconvert_exporter": "python",
      "pygments_lexer": "ipython3",
      "version": "3.10.12"
    },
    "orig_nbformat": 4,
    "vscode": {
      "interpreter": {
        "hash": "ad2bdc8ecc057115af97d19610ffacc2b4e99fae6737bb82f5d7fb13d2f2c186"
      }
    }
  },
  "nbformat": 4,
  "nbformat_minor": 0
}
